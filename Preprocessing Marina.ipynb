{
 "cells": [
  {
   "cell_type": "code",
   "execution_count": 62,
   "id": "339a2125-a679-43b4-9edd-82d88d45d9ef",
   "metadata": {},
   "outputs": [],
   "source": [
    "import json\n",
    "import pandas as pd\n",
    "import os\n",
    "import re\n",
    "from collections import Counter\n",
    "import librosa\n",
    "import random\n",
    "from segment_service import align_texts\n",
    "import IPython.display as ipd"
   ]
  },
  {
   "cell_type": "markdown",
   "id": "6e208d5d",
   "metadata": {},
   "source": [
    "# The paths"
   ]
  },
  {
   "cell_type": "code",
   "execution_count": 63,
   "id": "780723e4",
   "metadata": {},
   "outputs": [],
   "source": [
    "recordings_folder_path = r\"../DANA/Audios\"\n",
    "decoding_trial_path = r\"../DANA/Transcription_patients.xlsx\""
   ]
  },
  {
   "cell_type": "markdown",
   "id": "1d9c8d2f-527c-4547-9803-b979029f52a7",
   "metadata": {},
   "source": [
    "# Data Pre-Processing"
   ]
  },
  {
   "cell_type": "markdown",
   "id": "7bca996b",
   "metadata": {},
   "source": [
    "Load the dataframe containing the data"
   ]
  },
  {
   "cell_type": "markdown",
   "id": "5e742b56",
   "metadata": {},
   "source": [
    "## Modification of the database"
   ]
  },
  {
   "cell_type": "code",
   "execution_count": 64,
   "id": "61992b3f-4d81-4e2e-af7d-d31dfd0f37a1",
   "metadata": {},
   "outputs": [],
   "source": [
    "def reformat_df(df, columns_drop, columns_rename, columns_add):\n",
    "    df = df.drop(columns=columns_drop)\n",
    "    df = df.rename(columns=columns_rename)\n",
    "    for col in columns_add:\n",
    "        df[col] = \"\"\n",
    "    return df    "
   ]
  },
  {
   "cell_type": "code",
   "execution_count": 65,
   "id": "fe973cfb",
   "metadata": {},
   "outputs": [],
   "source": [
    "def match_files_df_recordings(df, recordings_folder_path, path_filters=None):    \n",
    "    recordings_filenames = []\n",
    "    recordings_filepaths = []\n",
    "    if path_filters is None:\n",
    "        path_filters = ()\n",
    "\n",
    "    # Get list of all audio filenames and paths in recordings folder whose paths contains all path filters\n",
    "    for root, _, files in os.walk(recordings_folder_path):\n",
    "        if all(filter in root for filter in path_filters):\n",
    "            for file in files:\n",
    "                if file.endswith(\".wav\"):\n",
    "                    recordings_filenames.append(file)\n",
    "                    recordings_filepaths.append(os.path.join(root, file))\n",
    "\n",
    "    # Get the list of filenames in the json file\n",
    "    df_filenames = df['filename'].tolist()\n",
    "\n",
    "    # Get the list of filenames in the df file that are not in the recordings folder\n",
    "    missing_recordings = list(set(df_filenames) - set(recordings_filenames))\n",
    "    print(len(missing_recordings), \" Files that are in the df but not in the recording folder (not processed): \", missing_recordings)\n",
    "\n",
    "    # Get the list of filenames in the recordings folder that are not in the df\n",
    "    extra_recordings = list(set(recordings_filenames) - set(df_filenames))\n",
    "    print(len(extra_recordings), \" Files that are in the recording folder but not in the df (not processed): \", extra_recordings)\n",
    "\n",
    "    # Remove extra files from recordings_filepaths and missing files from df\n",
    "    recordings_filepaths = [path for path in recordings_filepaths if os.path.basename(path) not in extra_recordings]\n",
    "    df = df[~df['filename'].isin(missing_recordings)]\n",
    "    df = df[~df['filename'].isin(extra_recordings)]\n",
    "\n",
    "    # Remove the duplicate filenames from df and from recordings_filepaths\n",
    "    print(\"Duplicate filenames in df (not processed): \", df[df['filename'].duplicated(keep=False)].sort_values('filename')['filename'].tolist())\n",
    "    duplicate_list = [item for item, count in Counter(recordings_filepaths).items() if count > 1]\n",
    "    print(\"Duplicate filenames in recordings folder (not processed): \", [item for item, count in Counter(recordings_filepaths).items() if count > 1])\n",
    "    df = df.drop_duplicates(subset=['filename'], keep='first')\n",
    "    recordings_filepaths = list(set(recordings_filepaths))\n",
    "\n",
    "    # reset index of DataFrame\n",
    "    df = df.reset_index(drop=True)\n",
    "\n",
    "    # Verify number of files in DataFrame matches number of files in folder\n",
    "    assert len(df) == len(recordings_filepaths), f\"Number of files in DataFrame ({len(df)}) does not match number of files in folder ({len(recordings_filepaths)})\"\n",
    "    print(\"Number of files to be processed: \", len(df))\n",
    "\n",
    "    return df, recordings_filepaths, recordings_filenames"
   ]
  },
  {
   "cell_type": "code",
   "execution_count": 66,
   "id": "4afd9fc7",
   "metadata": {},
   "outputs": [
    {
     "name": "stdout",
     "output_type": "stream",
     "text": [
      "Number of rows in df:  4928\n"
     ]
    },
    {
     "data": {
      "text/html": [
       "<div>\n",
       "<style scoped>\n",
       "    .dataframe tbody tr th:only-of-type {\n",
       "        vertical-align: middle;\n",
       "    }\n",
       "\n",
       "    .dataframe tbody tr th {\n",
       "        vertical-align: top;\n",
       "    }\n",
       "\n",
       "    .dataframe thead th {\n",
       "        text-align: right;\n",
       "    }\n",
       "</style>\n",
       "<table border=\"1\" class=\"dataframe\">\n",
       "  <thead>\n",
       "    <tr style=\"text-align: right;\">\n",
       "      <th></th>\n",
       "      <th>Subject_P</th>\n",
       "      <th>Session</th>\n",
       "      <th>Categorie</th>\n",
       "      <th>Animacity</th>\n",
       "      <th>Stimuli</th>\n",
       "      <th>Output_file</th>\n",
       "      <th>Error</th>\n",
       "      <th>Error_cat</th>\n",
       "      <th>Accuracy</th>\n",
       "      <th>RT_correct</th>\n",
       "    </tr>\n",
       "  </thead>\n",
       "  <tbody>\n",
       "    <tr>\n",
       "      <th>0</th>\n",
       "      <td>P101</td>\n",
       "      <td>1</td>\n",
       "      <td>Fruits</td>\n",
       "      <td>animé</td>\n",
       "      <td>abricot</td>\n",
       "      <td>101_1_abricot.wav</td>\n",
       "      <td>NaN</td>\n",
       "      <td>COR</td>\n",
       "      <td>1.0</td>\n",
       "      <td>NaN</td>\n",
       "    </tr>\n",
       "    <tr>\n",
       "      <th>1</th>\n",
       "      <td>P101</td>\n",
       "      <td>1</td>\n",
       "      <td>Fruits</td>\n",
       "      <td>inanimé</td>\n",
       "      <td>abricot</td>\n",
       "      <td>101_1_abricot.wav</td>\n",
       "      <td>NaN</td>\n",
       "      <td>COR</td>\n",
       "      <td>1.0</td>\n",
       "      <td>NaN</td>\n",
       "    </tr>\n",
       "    <tr>\n",
       "      <th>2</th>\n",
       "      <td>P101</td>\n",
       "      <td>1</td>\n",
       "      <td>Outils</td>\n",
       "      <td>inanimé</td>\n",
       "      <td>agrafeuse</td>\n",
       "      <td>101_1_agrafeuse.wav</td>\n",
       "      <td>NaN</td>\n",
       "      <td>COR</td>\n",
       "      <td>1.0</td>\n",
       "      <td>NaN</td>\n",
       "    </tr>\n",
       "    <tr>\n",
       "      <th>3</th>\n",
       "      <td>P101</td>\n",
       "      <td>1</td>\n",
       "      <td>Outils</td>\n",
       "      <td>inanimé</td>\n",
       "      <td>agrafeuse</td>\n",
       "      <td>101_1_agrafeuse.wav</td>\n",
       "      <td>NaN</td>\n",
       "      <td>COR</td>\n",
       "      <td>1.0</td>\n",
       "      <td>NaN</td>\n",
       "    </tr>\n",
       "    <tr>\n",
       "      <th>4</th>\n",
       "      <td>P101</td>\n",
       "      <td>1</td>\n",
       "      <td>Fruits</td>\n",
       "      <td>animé</td>\n",
       "      <td>ananas</td>\n",
       "      <td>101_1_ananas.wav</td>\n",
       "      <td>NaN</td>\n",
       "      <td>COR</td>\n",
       "      <td>1.0</td>\n",
       "      <td>NaN</td>\n",
       "    </tr>\n",
       "    <tr>\n",
       "      <th>5</th>\n",
       "      <td>P101</td>\n",
       "      <td>1</td>\n",
       "      <td>Fruits</td>\n",
       "      <td>animé</td>\n",
       "      <td>ananas</td>\n",
       "      <td>101_1_ananas.wav</td>\n",
       "      <td>NaN</td>\n",
       "      <td>COR</td>\n",
       "      <td>1.0</td>\n",
       "      <td>NaN</td>\n",
       "    </tr>\n",
       "    <tr>\n",
       "      <th>6</th>\n",
       "      <td>P101</td>\n",
       "      <td>1</td>\n",
       "      <td>Outils</td>\n",
       "      <td>inanimé</td>\n",
       "      <td>arrosoir</td>\n",
       "      <td>101_1_arrosoir.wav</td>\n",
       "      <td>NaN</td>\n",
       "      <td>COR</td>\n",
       "      <td>1.0</td>\n",
       "      <td>NaN</td>\n",
       "    </tr>\n",
       "    <tr>\n",
       "      <th>7</th>\n",
       "      <td>P101</td>\n",
       "      <td>1</td>\n",
       "      <td>Outils</td>\n",
       "      <td>inanimé</td>\n",
       "      <td>arrosoir</td>\n",
       "      <td>101_1_arrosoir.wav</td>\n",
       "      <td>NaN</td>\n",
       "      <td>COR</td>\n",
       "      <td>1.0</td>\n",
       "      <td>NaN</td>\n",
       "    </tr>\n",
       "    <tr>\n",
       "      <th>8</th>\n",
       "      <td>P101</td>\n",
       "      <td>1</td>\n",
       "      <td>Légumes</td>\n",
       "      <td>animé</td>\n",
       "      <td>artichaut</td>\n",
       "      <td>101_1_artichaut.wav</td>\n",
       "      <td>NaN</td>\n",
       "      <td>COR</td>\n",
       "      <td>1.0</td>\n",
       "      <td>NaN</td>\n",
       "    </tr>\n",
       "    <tr>\n",
       "      <th>9</th>\n",
       "      <td>P101</td>\n",
       "      <td>1</td>\n",
       "      <td>Légumes</td>\n",
       "      <td>animé</td>\n",
       "      <td>artichaut</td>\n",
       "      <td>101_1_artichaut.wav</td>\n",
       "      <td>NaN</td>\n",
       "      <td>COR</td>\n",
       "      <td>1.0</td>\n",
       "      <td>NaN</td>\n",
       "    </tr>\n",
       "  </tbody>\n",
       "</table>\n",
       "</div>"
      ],
      "text/plain": [
       "  Subject_P  Session Categorie Animacity    Stimuli          Output_file  \\\n",
       "0      P101        1    Fruits     animé    abricot    101_1_abricot.wav   \n",
       "1      P101        1    Fruits   inanimé    abricot    101_1_abricot.wav   \n",
       "2      P101        1    Outils   inanimé  agrafeuse  101_1_agrafeuse.wav   \n",
       "3      P101        1    Outils   inanimé  agrafeuse  101_1_agrafeuse.wav   \n",
       "4      P101        1    Fruits     animé     ananas     101_1_ananas.wav   \n",
       "5      P101        1    Fruits     animé     ananas     101_1_ananas.wav   \n",
       "6      P101        1    Outils   inanimé   arrosoir   101_1_arrosoir.wav   \n",
       "7      P101        1    Outils   inanimé   arrosoir   101_1_arrosoir.wav   \n",
       "8      P101        1   Légumes     animé  artichaut  101_1_artichaut.wav   \n",
       "9      P101        1   Légumes     animé  artichaut  101_1_artichaut.wav   \n",
       "\n",
       "  Error Error_cat  Accuracy  RT_correct  \n",
       "0   NaN       COR       1.0         NaN  \n",
       "1   NaN       COR       1.0         NaN  \n",
       "2   NaN       COR       1.0         NaN  \n",
       "3   NaN       COR       1.0         NaN  \n",
       "4   NaN       COR       1.0         NaN  \n",
       "5   NaN       COR       1.0         NaN  \n",
       "6   NaN       COR       1.0         NaN  \n",
       "7   NaN       COR       1.0         NaN  \n",
       "8   NaN       COR       1.0         NaN  \n",
       "9   NaN       COR       1.0         NaN  "
      ]
     },
     "execution_count": 66,
     "metadata": {},
     "output_type": "execute_result"
    }
   ],
   "source": [
    "#read xls file\n",
    "df = pd.read_excel(decoding_trial_path)\n",
    "print(\"Number of rows in df: \", len(df))\n",
    "df.head(10)"
   ]
  },
  {
   "cell_type": "code",
   "execution_count": 67,
   "id": "ce0905e5",
   "metadata": {},
   "outputs": [
    {
     "name": "stdout",
     "output_type": "stream",
     "text": [
      "504  Files that are in the df but not in the recording folder (not processed):  ['103_12_guitare2.wav', '112_12_olive1.wav', '112_12_pamplemousse2.wav', '112_12_arrosoir1.wav', '103_12_radis1.wav', '112_12_radis1.wav', '102_12_aubergine2.wav', '112_12_guitare1.wav', '102_12_cymbales1.wav', '104_12_courgette1.wav', '102_12_tomate2.wav', '101_9_flute2.wav', '102_12_cuillere1.wav', '103_12_tournevis2.wav', '112_12_ananas1.wav', '102_12_celeri2.wav', '104_12_poireau2.wav', '104_12_pruneau2.wav', '112_12_potiron2.wav', '112_12_carillon2.wav', '112_12_banjo2.wav', '112_12_abricot2.wav', '103_12_cerise2.wav', '103_12_agrafeuse2.wav', '104_12_celeri2.wav', '103_12_haricot1.wav', '101_9_myrtille2.wav', '103_12_scie2.wav', '102_12_piano2.wav', '104_12_lyre1.wav', '102_12_poireau1.wav', '112_12_fourchette2.wav', '101_9_batterie2.wav', '103_12_myrtille1.wav', '112_12_celeri1.wav', '102_12_orange2.wav', '103_12_roquette1.wav', '102_12_haricot1.wav', '104_12_mangue2.wav', '101_9_clarinette2.wav', '112_12_flute1.wav', '103_12_kaki1.wav', '112_12_celeri2.wav', '112_12_carillon1.wav', '112_12_myrtille1.wav', '112_12_orange1.wav', '103_12_cor1.wav', '102_12_ciseaux2.wav', '103_12_ananas2.wav', '102_12_tomate1.wav', '102_12_orgue2.wav', '101_9_truelle2.wav', '103_12_epinard2.wav', '102_12_banjo2.wav', '102_12_roquette1.wav', '102_12_scalpel1.wav', '101_9_fraise2.wav', '104_12_equerre1.wav', '112_12_fourchette1.wav', '102_12_perceuse2.wav', '101_9_agrafeuse2.wav', '104_12_aubergine1.wav', '112_12_poireau1.wav', '112_12_cuillere2.wav', '103_12_radis2.wav', '103_12_lyre1.wav', '101_9_banjo2.wav', '112_12_orgue2.wav', '101_9_pruneau2.wav', '104_12_compas2.wav', '112_12_abricot1.wav', '104_12_saxophone2.wav', '104_12_ananas2.wav', '103_12_perceuse2.wav', '112_12_epinard1.wav', '112_12_metronome2.wav', '103_12_potiron1.wav', '103_12_kaki2.wav', '104_12_chalumeau1.wav', '101_9_perceuse2.wav', '102_12_fourchette2.wav', '103_12_aubergine2.wav', '104_12_tournevis1.wav', '101_9_orange2.wav', '102_12_flute2.wav', '104_12_escabeau2.wav', '103_12_artichaut1.wav', '112_12_brocoli1.wav', '104_12_kaki2.wav', '102_12_pruneau1.wav', '112_12_asperge2.wav', '104_12_aubergine2.wav', '112_12_radis2.wav', '104_12_cerise1.wav', '104_12_tomate2.wav', '101_9_celeri2.wav', '112_12_orgue1.wav', '104_12_agrafeuse1.wav', '112_12_cuillere1.wav', '102_12_abricot2.wav', '104_12_escabeau1.wav', '103_12_epinard1.wav', '102_12_equerre2.wav', '102_12_mangue2.wav', '102_12_truelle1.wav', '104_12_cymbales1.wav', '101_9_pamplemousse2.wav', '103_12_batterie1.wav', '104_12_agrafeuse2.wav', '112_12_scalpel1.wav', '102_12_cymbales2.wav', '101_9_compas2.wav', '103_12_asperge2.wav', '104_12_compas1.wav', '104_12_piano1.wav', '103_12_arrosoir2.wav', '104_12_violoncelle2.wav', '103_12_patate2.wav', '103_12_mangue1.wav', '103_12_mirabelle1.wav', '102_12_patate1.wav', '103_12_olive1.wav', '104_12_tomate1.wav', '103_12_brocoli1.wav', '102_12_olive2.wav', '112_12_compas1.wav', '102_12_poireau2.wav', '104_12_ciseaux1.wav', '102_12_abricot1.wav', '103_12_orange1.wav', '101_9_tomate2.wav', '112_12_chalumeau1.wav', '112_12_kaki1.wav', '102_12_courgette2.wav', '112_12_perceuse1.wav', '101_9_abricot2.wav', '104_12_patate2.wav', '104_12_fourchette2.wav', '104_12_truelle1.wav', '103_12_pruneau2.wav', '101_9_ananas2.wav', '102_12_cuillere2.wav', '103_12_metronome1.wav', '104_12_violoncelle1.wav', '112_12_arrosoir2.wav', '112_12_ciseaux2.wav', '112_12_cerise2.wav', '103_12_fraise2.wav', '112_12_potiron1.wav', '112_12_mangue2.wav', '103_12_chalumeau1.wav', '112_12_mirabelle1.wav', '112_12_mirabelle2.wav', '101_9_fourchette2.wav', '102_12_metronome1.wav', '103_12_potiron2.wav', '112_12_figue2.wav', '104_12_scalpel2.wav', '102_12_saxophone1.wav', '104_12_metronome2.wav', '112_12_mangue1.wav', '112_12_artichaut2.wav', '102_12_asperge1.wav', '104_12_carillon2.wav', '112_12_truelle1.wav', '102_12_scie1.wav', '103_12_compas2.wav', '102_12_brocoli1.wav', '102_12_pruneau2.wav', '112_12_aubergine1.wav', '112_12_escabeau2.wav', '103_12_carillon2.wav', '104_12_mangue1.wav', '103_12_figue2.wav', '104_12_flute1.wav', '112_12_courgette1.wav', '102_12_tournevis2.wav', '103_12_lyre2.wav', '101_9_arrosoir2.wav', '103_12_myrtille2.wav', '102_12_kaki1.wav', '104_12_brocoli1.wav', '112_12_asperge1.wav', '104_12_guitare1.wav', '102_12_epinard1.wav', '112_12_fraise1.wav', '112_12_perceuse2.wav', '112_12_scalpel2.wav', '104_12_chalumeau2.wav', '103_12_arrosoir1.wav', '112_12_pamplemousse1.wav', '101_9_potiron2.wav', '102_12_tournevis1.wav', '103_12_cerise1.wav', '103_12_guitare1.wav', '103_12_haricot2.wav', '102_12_mangue1.wav', '104_12_fraise2.wav', '102_12_fraise1.wav', '112_12_aubergine2.wav', '104_12_batterie1.wav', '103_12_brocoli2.wav', '102_12_orange1.wav', '103_12_poireau2.wav', '112_12_kaki2.wav', '112_12_poireau2.wav', '103_12_carillon1.wav', '102_12_arrosoir2.wav', '104_12_pruneau1.wav', '102_12_perceuse1.wav', '112_12_violoncelle2.wav', '102_12_lyre1.wav', '102_12_mirabelle1.wav', '112_12_metronome1.wav', '104_12_orgue1.wav', '101_9_saxophone2.wav', '102_12_brocoli2.wav', '102_12_guitare1.wav', '104_12_patate1.wav', '104_12_cuillere1.wav', '104_12_scalpel1.wav', '102_12_scie2.wav', '112_12_epinard2.wav', '102_12_piano1.wav', '102_12_roquette2.wav', '101_9_cymbales2.wav', '102_12_figue1.wav', '104_12_olive1.wav', '101_9_olive2.wav', '103_12_pamplemousse2.wav', '103_12_cuillere2.wav', '103_12_mangue2.wav', '102_12_haricot2.wav', '112_12_cor1.wav', '104_12_potiron1.wav', '112_12_artichaut1.wav', '102_12_carillon2.wav', '101_9_radis2.wav', '102_12_cerise1.wav', '101_9_cor2.wav', '112_12_piano2.wav', '104_12_haricot2.wav', '112_12_saxophone2.wav', '104_12_roquette1.wav', '103_12_cymbales1.wav', '104_12_ananas1.wav', '102_12_potiron2.wav', '104_12_arrosoir2.wav', '101_9_escabeau2.wav', '102_12_guitare2.wav', '104_12_radis2.wav', '104_12_pamplemousse1.wav', '103_12_piano1.wav', '112_12_myrtille2.wav', '103_12_asperge1.wav', '104_12_perceuse2.wav', '112_12_truelle2.wav', '104_12_cymbales2.wav', '112_12_batterie2.wav', '112_12_cerise1.wav', '103_12_courgette1.wav', '112_12_pruneau2.wav', '103_12_roquette2.wav', '112_12_flute2.wav', '104_12_fraise1.wav', '102_12_ananas1.wav', '102_12_patate2.wav', '102_12_artichaut1.wav', '103_12_orgue1.wav', '104_12_abricot1.wav', '101_9_mirabelle2.wav', '112_12_equerre1.wav', '104_12_flute2.wav', '103_12_flute1.wav', '101_9_metronome2.wav', '104_12_potiron2.wav', '102_12_celeri1.wav', '102_12_banjo1.wav', '102_12_flute1.wav', '103_12_fourchette2.wav', '103_12_orange2.wav', '104_12_poireau1.wav', '104_12_fourchette1.wav', '104_12_tournevis2.wav', '101_9_violoncelle2.wav', '104_12_guitare2.wav', '102_12_batterie2.wav', '112_12_clarinette1.wav', '101_9_scalpel2.wav', '102_12_mirabelle2.wav', '104_12_orgue2.wav', '103_12_tomate2.wav', '112_12_haricot1.wav', '112_12_framboise1.wav', '103_12_truelle1.wav', '104_12_epinard2.wav', '103_12_saxophone2.wav', '104_12_figue1.wav', '103_12_escabeau2.wav', '104_12_kaki1.wav', '102_12_carillon1.wav', '112_12_framboise2.wav', '102_12_compas1.wav', '103_12_orgue2.wav', '103_12_clarinette2.wav', '112_12_lyre1.wav', '102_12_chalumeau2.wav', '103_12_banjo1.wav', '103_12_patate1.wav', '103_12_scie1.wav', '104_12_radis1.wav', '102_12_equerre1.wav', '104_12_framboise2.wav', '102_12_ciseaux1.wav', '112_12_roquette1.wav', '101_9_tournevis2.wav', '104_12_brocoli2.wav', '104_12_artichaut2.wav', '104_12_cor2.wav', '103_12_ciseaux2.wav', '104_12_asperge2.wav', '103_12_violoncelle1.wav', '102_12_agrafeuse2.wav', '103_12_courgette2.wav', '102_12_framboise2.wav', '104_12_courgette2.wav', '103_12_artichaut2.wav', '102_12_artichaut2.wav', '102_12_orgue1.wav', '101_9_cerise2.wav', '101_9_courgette2.wav', '103_12_aubergine1.wav', '102_12_truelle2.wav', '104_12_lyre2.wav', '112_12_tournevis1.wav', '103_12_ananas1.wav', '101_9_carillon2.wav', '112_12_batterie1.wav', '103_12_poireau1.wav', '104_12_truelle2.wav', '101_9_brocoli2.wav', '103_12_batterie2.wav', '103_12_ciseaux1.wav', '103_12_equerre2.wav', '101_9_aubergine2.wav', '102_12_lyre2.wav', '104_12_scie2.wav', '101_9_framboise2.wav', '103_12_metronome2.wav', '112_12_scie1.wav', '103_12_celeri2.wav', '102_12_clarinette1.wav', '102_12_aubergine1.wav', '103_12_piano2.wav', '112_12_escabeau1.wav', '102_12_batterie1.wav', '102_12_violoncelle1.wav', '104_12_piano2.wav', '102_12_pamplemousse2.wav', '103_12_violoncelle2.wav', '103_12_equerre1.wav', '103_12_mirabelle2.wav', '101_9_asperge2.wav', '112_12_ananas2.wav', '103_12_framboise1.wav', '104_12_mirabelle1.wav', '104_12_equerre2.wav', '102_12_kaki2.wav', '104_12_cerise2.wav', '102_12_olive1.wav', '101_9_lyre2.wav', '112_12_piano1.wav', '101_9_artichaut2.wav', '103_12_fourchette1.wav', '112_12_equerre2.wav', '112_12_tournevis2.wav', '103_12_cymbales2.wav', '103_12_figue1.wav', '112_12_tomate2.wav', '112_12_haricot2.wav', '104_12_framboise1.wav', '104_12_artichaut1.wav', '102_12_violoncelle2.wav', '104_12_olive2.wav', '102_12_agrafeuse1.wav', '112_12_cymbales2.wav', '112_12_tomate1.wav', '102_12_potiron1.wav', '103_12_saxophone1.wav', '112_12_fraise2.wav', '102_12_radis2.wav', '112_12_roquette2.wav', '102_12_cor2.wav', '104_12_myrtille2.wav', '103_12_clarinette1.wav', '104_12_arrosoir1.wav', '103_12_chalumeau2.wav', '102_12_arrosoir1.wav', '101_9_guitare2.wav', '102_12_fourchette1.wav', '103_12_compas1.wav', '104_12_perceuse1.wav', '104_12_metronome1.wav', '112_12_olive2.wav', '102_12_courgette1.wav', '104_12_scie1.wav', '102_12_chalumeau1.wav', '104_12_epinard1.wav', '104_12_ciseaux2.wav', '104_12_myrtille1.wav', '104_12_haricot1.wav', '103_12_abricot1.wav', '112_12_agrafeuse2.wav', '103_12_pruneau1.wav', '102_12_clarinette2.wav', '112_12_orange2.wav', '104_12_banjo1.wav', '104_12_mirabelle2.wav', '104_12_figue2.wav', '103_12_olive2.wav', '103_12_pamplemousse1.wav', '104_12_asperge1.wav', '101_9_patate2.wav', '101_9_ciseaux2.wav', '112_12_lyre2.wav', '102_12_epinard2.wav', '101_9_figue2.wav', '102_12_cerise2.wav', '102_12_fraise2.wav', '112_12_cor2.wav', '104_12_carillon1.wav', '104_12_cuillere2.wav', '112_12_clarinette2.wav', '112_12_compas2.wav', '102_12_escabeau1.wav', '101_9_roquette2.wav', '101_9_scie2.wav', '104_12_cor1.wav', '102_12_compas2.wav', '102_12_pamplemousse1.wav', '112_12_brocoli2.wav', '112_12_saxophone1.wav', '104_12_saxophone1.wav', '102_12_escabeau2.wav', '103_12_cuillere1.wav', '112_12_figue1.wav', '102_12_myrtille1.wav', '101_9_mangue2.wav', '103_12_celeri1.wav', '104_12_roquette2.wav', '103_12_scalpel2.wav', '102_12_myrtille2.wav', '102_12_asperge2.wav', '101_9_kaki2.wav', '101_9_cuillere2.wav', '104_12_banjo2.wav', '101_9_chalumeau2.wav', '103_12_banjo2.wav', '112_12_chalumeau2.wav', '104_12_pamplemousse2.wav', '112_12_guitare2.wav', '103_12_cor2.wav', '112_12_banjo1.wav', '104_12_orange2.wav', '101_9_poireau2.wav', '104_12_clarinette1.wav', '101_9_orgue2.wav', '112_12_pruneau1.wav', '104_12_batterie2.wav', '102_12_ananas2.wav', '103_12_scalpel1.wav', '102_12_framboise1.wav', '104_12_abricot2.wav', '112_12_courgette2.wav', '103_12_truelle2.wav', '103_12_tournevis1.wav', '112_12_patate2.wav', '103_12_agrafeuse1.wav', '102_12_saxophone2.wav', '112_12_agrafeuse1.wav', '101_9_haricot2.wav', '101_9_equerre2.wav', '102_12_figue2.wav', '104_12_clarinette2.wav', '112_12_ciseaux1.wav', '103_12_framboise2.wav', '103_12_perceuse1.wav', '112_12_scie2.wav', '112_12_patate1.wav', '112_12_violoncelle1.wav', '103_12_flute2.wav', '104_12_celeri1.wav', '112_12_cymbales1.wav', '101_9_piano2.wav', '102_12_metronome2.wav', '102_12_radis1.wav', '103_12_fraise1.wav', '102_12_cor1.wav', '104_12_orange1.wav', '101_9_epinard2.wav', '103_12_tomate1.wav', '102_12_scalpel2.wav', '103_12_escabeau1.wav', '103_12_abricot2.wav']\n",
      "1055  Files that are in the recording folder but not in the df (not processed):  ['106_15_violoncelle1.wav', '106_15_batterie1.wav', '106_12_truelle2.wav', '108_12_orange2.wav', '107_12_escabeau1.wav', '108_9_cerise2.wav', '106_15_figue2.wav', '107_12_clarinette2.wav', '117_9_xxx.wav', '105_1_myrtille.wav', '107_12_haricot1.wav', '108_9_metronome1.wav', '108_12_arrosoir1.wav', '107_1_tournevis1.wav', '101_99_mangue1.wav', '108_1_chalumeau1.wav', '110_9_xxx.wav', '107_12_scie2.wav', '107_12_equerre2.wav', '108_12_clarinette2.wav', '107_12_tomate1.wav', '106_12_celeri1.wav', '102_1_perceuse.wav', '107_12_myrtille1.wav', '107_1_epinard1.wav', '105_1_cerise.wav', '108_12_scie2.wav', '108_9_ananas1.wav', '108_1_cuillere2.wav', '101_99_haricot1.wav', '107_12_compas1.wav', '106_15_cuillere1.wav', '106_12_brocoli1.wav', '108_12_fraise2.wav', '108_1_agrafeuse1.wav', '108_12_aubergine2.wav', '106_12_saxophone1.wav', '107_12_guitare2.wav', '106_15_potiron1.wav', '108_9_scalpel1.wav', '102_1_pruneau.wav', '108_12_fourchette2.wav', '102_1_carillon.wav', '106_12_cerise1.wav', '108_12_banjo2.wav', '118_1_roquette.wav', '107_1_cymbales2.wav', '107_12_ciseaux1.wav', '107_12_patate2.wav', '108_1_saxophone1.wav', '108_12_roquette2.wav', '108_1_tournevis2.wav', '108_9_perceuse1.wav', '106_15_fourchette2.wav', '107_12_fraise1.wav', '106_15_poireau2.wav', '107_1_scie2.wav', '101_99_aubergine1.wav', '107_1_ciseaux2.wav', '108_9_radis1.wav', '106_15_perceuse2.wav', '118_1_arrosoir.wav', '108_1_artichaut1.wav', '102_1_clarinette.wav', '107_1_saxophone1.wav', '115_1_chalumeau.wav', '107_12_flute1.wav', '107_1_agrafeuse1.wav', '106_15_patate1.wav', '118_1_abricot.wav', '107_1_piano2.wav', '107_1_cerise1.wav', '106_15_carillon2.wav', '102_1_cuillere.wav', '107_1_figue2.wav', '118_1_patate.wav', '107_1_mangue1.wav', '106_15_abricot1.wav', '107_1_truelle1.wav', '107_1_batterie2.wav', '108_9_potiron2.wav', '108_9_metronome2.wav', '106_15_fourchette1.wav', '107_1_olive1.wav', '107_12_piano1.wav', '107_12_agrafeuse2.wav', '107_12_cuillere1.wav', '106_15_aubergine1.wav', '106_15_clarinette2.wav', '108_12_cymbales2.wav', '108_12_figue1.wav', '105_1_cuillere.wav', '115_9_xxx.wav', '107_12_olive1.wav', '108_1_lyre1.wav', '115_1_guitare.wav', '118_1_asperge.wav', '107_1_myrtille2.wav', '107_12_kaki1.wav', '108_1_roquette2.wav', '108_9_clarinette2.wav', '108_1_haricot2.wav', '106_15_epinard2.wav', '108_12_equerre1.wav', '106_15_mirabelle2.wav', '102_1_tomate.wav', '102_1_metronome.wav', '106_15_cor2.wav', '106_12_cerise2.wav', '108_9_tomate1.wav', '107_12_celeri2.wav', '107_12_courgette2.wav', '106_15_roquette2.wav', '101_99_orange1.wav', '106_15_asperge1.wav', '108_1_pamplemousse1.wav', '108_12_mirabelle1.wav', '118_1_escabeau.wav', '108_1_aubergine1.wav', '108_12_ciseaux2.wav', '108_12_mangue2.wav', '118_1_batterie.wav', '106_12_epinard2.wav', '107_12_poireau1.wav', '107_1_escabeau2.wav', '111_1_fraise.wav', '115_1_cerise.wav', '107_1_flute2.wav', '108_1_myrtille2.wav', '118_9_xxx.wav', '108_1_saxophone2.wav', '106_12_metronome1.wav', '108_12_carillon2.wav', '108_12_metronome1.wav', '115_1_banjo.wav', '118_1_tournevis.wav', '111_1_ciseaux.wav', '107_12_cerise2.wav', '107_1_batterie1.wav', '104_9_xxx.wav', '106_15_banjo2.wav', '101_99_compas1.wav', '108_1_pamplemousse2.wav', '107_1_patate1.wav', '118_1_flute.wav', '107_1_haricot1.wav', '107_1_fraise2.wav', '111_1_courgette.wav', '101_99_agrafeuse1.wav', '108_12_violoncelle1.wav', '105_1_roquette.wav', '101_99_fraise1.wav', '118_1_cerise.wav', '108_9_mangue2.wav', '108_9_mirabelle1.wav', '108_1_radis2.wav', '108_12_fraise1.wav', '107_12_pruneau1.wav', '108_9_orgue1.wav', '108_9_radis2.wav', '107_1_equerre2.wav', '106_15_scie2.wav', '107_1_kaki1.wav', '108_9_truelle1.wav', '107_12_brocoli1.wav', '106_12_potiron1.wav', '115_1_patate.wav', '107_1_truelle2.wav', '101_99_pamplemousse1.wav', '108_9_celeri2.wav', '106_12_artichaut1.wav', '108_1_asperge1.wav', '111_1_pamplemousse.wav', '108_12_haricot1.wav', '106_15_pamplemousse2.wav', '106_15_orange2.wav', '111_1_tournevis.wav', '106_12_compas2.wav', '102_1_truelle.wav', '107_1_violoncelle2.wav', '107_12_chalumeau1.wav', '111_1_poireau.wav', '108_9_xxx.wav', '108_12_myrtille2.wav', '108_1_roquette1.wav', '108_1_orgue1.wav', '107_12_framboise2.wav', '101_99_violoncelle1.wav', '107_12_mangue2.wav', '106_15_potiron2.wav', '108_9_banjo1.wav', '108_12_lyre2.wav', '108_12_arrosoir2.wav', '108_9_guitare2.wav', '106_15_mirabelle1.wav', '106_15_courgette1.wav', '118_1_compas.wav', '108_9_scalpel2.wav', '111_1_saxophone.wav', '108_9_guitare1.wav', '108_1_scie2.wav', '101_99_kaki1.wav', '107_12_clarinette1.wav', '106_15_roquette1.wav', '108_1_ananas2.wav', '107_1_clarinette1.wav', '106_15_kaki1.wav', '107_1_banjo1.wav', '105_1_batterie.wav', '108_12_orgue2.wav', '108_9_arrosoir1.wav', '107_1_lyre1.wav', '106_12_roquette2.wav', '108_9_brocoli1.wav', '102_1_courgette.wav', '106_12_haricot2.wav', '107_12_chalumeau2.wav', '107_1_ciseaux1.wav', '108_1_mangue2.wav', '108_9_compas2.wav', '111_1_chalumeau.wav', '118_1_violoncelle.wav', '106_15_brocoli1.wav', '108_1_celeri1.wav', '101_99_escabeau1.wav', '108_12_poireau2.wav', '108_9_epinard2.wav', '108_1_escabeau2.wav', '108_1_fraise2.wav', '118_1_cuillere.wav', '118_1_agrafeuse.wav', '107_1_mirabelle1.wav', '106_15_myrtille2.wav', '102_1_mirabelle.wav', '108_12_perceuse1.wav', '108_12_potiron1.wav', '105_1_chalumeau.wav', '106_12_radis1.wav', '106_15_agrafeuse1.wav', '115_1_poireau.wav', '107_12_carillon1.wav', '108_9_lyre1.wav', '108_12_guitare2.wav', '102_1_aubergine.wav', '108_12_courgette1.wav', '108_1_fourchette2.wav', '101_99_metronome1.wav', '106_15_fraise1.wav', '106_15_pamplemousse1.wav', '108_9_cuillere2.wav', '108_12_aubergine1.wav', '115_1_flute.wav', '106_15_metronome1.wav', '107_12_myrtille2.wav', '108_12_radis2.wav', '106_12_asperge2.wav', '118_1_chalumeau.wav', '106_12_tournevis2.wav', '106_15_chalumeau2.wav', '108_9_saxophone1.wav', '108_12_truelle2.wav', '107_12_aubergine1.wav', '106_12_pamplemousse2.wav', '106_12_olive1.wav', '108_1_courgette1.wav', '107_12_figue2.wav', '106_12_equerre1.wav', '108_9_framboise2.wav', '106_15_framboise2.wav', '106_12_banjo2.wav', '112_9_xxx.wav', '115_1_cuillere.wav', '107_12_compas2.wav', '106_12_roquette1.wav', '106_15_piano1.wav', '118_1_mirabelle.wav', '106_15_arrosoir2.wav', '108_9_batterie2.wav', '108_9_arrosoir2.wav', '102_1_escabeau.wav', '102_1_cymbales.wav', '107_1_guitare2.wav', '102_1_saxophone.wav', '101_99_clarinette1.wav', '115_1_abricot.wav', '111_1_pruneau.wav', '108_12_brocoli2.wav', '107_12_orange2.wav', '107_1_banjo2.wav', '102_1_orgue.wav', '108_9_orgue2.wav', '108_12_mirabelle2.wav', '102_1_artichaut.wav', '106_15_truelle1.wav', '108_1_aubergine2.wav', '118_1_kaki.wav', '107_1_compas1.wav', '102_1_orange.wav', '108_1_cuillere1.wav', '115_1_agrafeuse.wav', '106_12_orange1.wav', '107_1_artichaut1.wav', '108_12_cuillere1.wav', '108_12_piano2.wav', '107_1_brocoli1.wav', '118_1_cymbales.wav', '106_12_fraise1.wav', '108_9_ciseaux2.wav', '101_99_banjo1.wav', '106_15_saxophone2.wav', '106_15_escabeau2.wav', '105_1_courgette.wav', '106_15_figue1.wav', '106_12_cymbales2.wav', '108_1_ciseaux1.wav', '108_1_flute1.wav', '102_1_asperge.wav', '106_15_haricot1.wav', '111_1_batterie.wav', '106_12_mangue2.wav', '106_12_cor1.wav', '107_12_truelle2.wav', '108_9_aubergine1.wav', '106_12_poireau1.wav', '106_15_cerise2.wav', '108_9_orange1.wav', '106_12_myrtille2.wav', '102_1_cerise.wav', '111_1_myrtille.wav', '115_1_aubergine.wav', '107_1_poireau2.wav', '107_12_roquette2.wav', '107_12_guitare1.wav', '106_15_arrosoir1.wav', '108_1_mirabelle2.wav', '107_12_scalpel1.wav', '111_1_guitare.wav', '106_15_ananas1.wav', '108_1_figue1.wav', '107_12_carillon2.wav', '107_1_agrafeuse2.wav', '102_1_tournevis.wav', '118_1_clarinette.wav', '118_1_epinard.wav', '108_1_batterie2.wav', '107_1_mangue2.wav', '106_12_piano1.wav', '106_15_cuillere2.wav', '106_12_abricot1.wav', '118_1_saxophone.wav', '108_1_guitare1.wav', '107_1_orgue2.wav', '107_12_radis2.wav', '111_1_flute.wav', '106_12_asperge1.wav', '108_9_haricot2.wav', '118_1_brocoli.wav', '106_12_ananas1.wav', '108_9_asperge2.wav', '106_12_mangue1.wav', '106_15_orgue1.wav', '107_12_cymbales2.wav', '106_15_ananas2.wav', '111_1_roquette.wav', '107_12_truelle1.wav', '108_12_tomate1.wav', '101_99_ananas1.wav', '108_12_agrafeuse1.wav', '118_1_artichaut.wav', '108_12_cerise1.wav', '108_9_flute1.wav', '106_15_piano2.wav', '106_12_tournevis1.wav', '108_1_lyre2.wav', '102_1_violoncelle.wav', '106_12_figue1.wav', '118_1_aubergine.wav', '106_12_scalpel1.wav', '101_99_orgue1.wav', '107_12_artichaut1.wav', '107_12_tomate2.wav', '105_1_poireau.wav', '106_15_equerre2.wav', '106_12_flute1.wav', '101_99_equerre1.wav', '107_1_tournevis2.wav', '106_15_lyre1.wav', '108_9_violoncelle1.wav', '108_1_brocoli1.wav', '102_1_guitare.wav', '107_12_cerise1.wav', '106_15_pruneau2.wav', '107_1_cuillere2.wav', '108_12_tournevis1.wav', '107_1_asperge1.wav', '108_12_epinard1.wav', '102_1_epinard.wav', '107_1_artichaut2.wav', '108_1_escabeau1.wav', '108_12_orgue1.wav', '107_1_celeri2.wav', '115_1_tournevis.wav', '106_15_courgette2.wav', '107_1_scie1.wav', '106_12_guitare1.wav', '106_15_flute1.wav', '118_1_carillon.wav', '107_1_equerre1.wav', '108_1_fourchette1.wav', '108_12_olive2.wav', '118_1_haricot.wav', '111_1_patate.wav', '107_12_piano2.wav', '105_1_scalpel.wav', '108_12_equerre2.wav', '105_1_aubergine.wav', '102_1_abricot.wav', '106_15_equerre1.wav', '108_9_courgette2.wav', '108_9_cerise1.wav', '107_1_fourchette1.wav', '105_1_tomate.wav', '106_12_banjo1.wav', '107_12_epinard1.wav', '108_1_truelle2.wav', '106_15_agrafeuse2.wav', '108_12_compas2.wav', '107_1_clarinette2.wav', '108_9_aubergine2.wav', '108_1_guitare2.wav', '106_12_kaki1.wav', '107_1_framboise2.wav', '108_1_framboise1.wav', '108_1_celeri2.wav', '102_1_brocoli.wav', '106_12_metronome2.wav', '118_1_potiron.wav', '108_1_myrtille1.wav', '107_12_orange1.wav', '108_1_cor1.wav', '106_15_radis2.wav', '108_9_patate1.wav', '107_12_metronome2.wav', '107_1_pamplemousse2.wav', '107_12_courgette1.wav', '108_9_artichaut1.wav', '118_1_myrtille.wav', '106_12_scalpel2.wav', '108_9_myrtille2.wav', '108_9_poireau2.wav', '118_1_piano.wav', '106_15_cor1.wav', '118_1_olive.wav', '101_99_lyre1.wav', '106_12_agrafeuse1.wav', '114_9_xxx.wav', '106_15_fraise2.wav', '107_1_abricot2.wav', '108_1_radis1.wav', '105_1_fraise.wav', '107_1_mirabelle2.wav', '108_1_compas1.wav', '106_12_fourchette1.wav', '108_9_celeri1.wav', '107_12_fraise2.wav', '108_1_clarinette1.wav', '107_12_haricot2.wav', '107_1_pruneau1.wav', '106_12_figue2.wav', '106_12_escabeau2.wav', '107_1_carillon2.wav', '116_9_xxx.wav', '106_12_radis2.wav', '107_12_asperge2.wav', '106_15_metronome2.wav', '108_1_cymbales1.wav', '108_12_ananas1.wav', '107_1_cymbales1.wav', '107_12_potiron2.wav', '115_1_myrtille.wav', '106_12_agrafeuse2.wav', '106_12_ciseaux1.wav', '118_1_ciseaux.wav', '107_1_orgue1.wav', '108_9_cor1.wav', '106_15_tomate2.wav', '107_12_pamplemousse2.wav', '101_99_arrosoir1.wav', '107_1_tomate1.wav', '108_12_olive1.wav', '108_12_cuillere2.wav', '106_15_mangue1.wav', '106_12_cor2.wav', '107_1_carillon1.wav', '107_12_epinard2.wav', '108_1_orgue2.wav', '108_1_orange1.wav', '106_12_perceuse1.wav', '118_1_scalpel.wav', '106_15_orange1.wav', '108_12_carillon1.wav', '108_12_kaki2.wav', '102_1_scalpel.wav', '118_1_framboise.wav', '107_12_abricot1.wav', '108_9_patate2.wav', '106_15_scalpel1.wav', '107_1_courgette2.wav', '115_1_violoncelle.wav', '106_12_lyre1.wav', '115_1_radis.wav', '108_1_metronome2.wav', '108_1_perceuse2.wav', '108_1_scalpel2.wav', '101_99_brocoli1.wav', '108_1_mangue1.wav', '108_12_ananas2.wav', '111_1_violoncelle.wav', '108_12_mangue1.wav', '111_1_agrafeuse.wav', '108_1_epinard2.wav', '107_1_chalumeau2.wav', '107_12_fourchette1.wav', '108_1_artichaut2.wav', '107_12_cor1.wav', '108_9_scie2.wav', '107_12_ananas2.wav', '108_1_patate1.wav', '108_1_piano2.wav', '106_15_compas1.wav', '106_12_cuillere2.wav', '111_1_abricot.wav', '101_99_chalumeau1.wav', '106_12_pruneau2.wav', '106_12_abricot2.wav', '101_99_tomate1.wav', '101_99_celeri1.wav', '115_1_pamplemousse.wav', '107_12_olive2.wav', '106_12_pruneau1.wav', '105_1_lyre.wav', '105_1_agrafeuse.wav', '108_9_roquette2.wav', '108_1_clarinette2.wav', '108_1_olive2.wav', '108_12_patate2.wav', '108_12_patate1.wav', '107_12_radis1.wav', '111_1_radis.wav', '106_12_guitare2.wav', '108_12_compas1.wav', '106_15_perceuse1.wav', '107_1_cor1.wav', '108_1_poireau1.wav', '108_12_potiron2.wav', '107_1_roquette2.wav', '106_15_kaki2.wav', '108_12_truelle1.wav', '108_1_tournevis1.wav', '107_1_pamplemousse1.wav', '102_1_fourchette.wav', '106_15_flute2.wav', '107_1_orange1.wav', '108_9_epinard1.wav', '108_1_arrosoir1.wav', '108_9_cymbales2.wav', '107_12_framboise1.wav', '106_12_saxophone2.wav', '107_12_figue1.wav', '108_1_cerise2.wav', '108_9_roquette1.wav', '106_12_lyre2.wav', '108_1_carillon2.wav', '107_12_orgue1.wav', '107_1_poireau1.wav', '102_1_radis.wav', '108_9_tournevis1.wav', '115_1_roquette.wav', '107_12_pruneau2.wav', '106_12_courgette2.wav', '108_9_pamplemousse2.wav', '106_12_ananas2.wav', '108_1_poireau2.wav', '107_12_flute2.wav', '101_99_scie1.wav', '108_1_violoncelle1.wav', '107_12_roquette1.wav', '108_9_olive2.wav', '107_12_cymbales1.wav', '102_1_lyre.wav', '113_9_xxx.wav', '102_1_batterie.wav', '108_12_tournevis2.wav', '108_12_framboise1.wav', '108_9_pamplemousse1.wav', '108_12_abricot2.wav', '115_1_courgette.wav', '108_12_batterie2.wav', '108_9_lyre2.wav', '107_1_tomate2.wav', '108_1_ciseaux2.wav', '108_12_epinard2.wav', '118_1_orgue.wav', '108_12_cor1.wav', '102_1_compas.wav', '106_12_compas1.wav', '109_9_xxx.wav', '106_12_orange2.wav', '108_12_pamplemousse1.wav', '107_12_metronome1.wav', '107_1_fraise1.wav', '106_15_radis1.wav', '108_9_fraise1.wav', '106_12_courgette1.wav', '108_12_pruneau1.wav', '107_1_perceuse1.wav', '105_1_tournevis.wav', '107_1_guitare1.wav', '107_1_arrosoir1.wav', '102_1_kaki.wav', '105_1_banjo.wav', '106_15_brocoli2.wav', '106_15_mangue2.wav', '106_12_celeri2.wav', '111_1_scalpel.wav', '106_12_aubergine1.wav', '107_12_mirabelle2.wav', '108_12_fourchette1.wav', '106_15_asperge2.wav', '106_15_compas2.wav', '108_9_carillon1.wav', '106_15_guitare2.wav', '107_12_asperge1.wav', '105_1_patate.wav', '108_9_figue1.wav', '118_1_banjo.wav', '108_9_equerre1.wav', '107_12_orgue2.wav', '107_12_pamplemousse1.wav', '106_12_ciseaux2.wav', '108_12_escabeau2.wav', '108_9_fourchette2.wav', '108_9_myrtille1.wav', '106_15_orgue2.wav', '107_1_lyre2.wav', '108_9_brocoli2.wav', '107_1_cuillere1.wav', '108_9_violoncelle2.wav', '101_99_potiron1.wav', '106_15_tournevis2.wav', '108_9_batterie1.wav', '107_1_ananas2.wav', '118_1_courgette.wav', '118_1_fourchette.wav', '108_12_cor2.wav', '106_15_poireau1.wav', '108_12_cymbales1.wav', '108_9_abricot2.wav', '107_12_celeri1.wav', '106_12_artichaut2.wav', '108_1_cymbales2.wav', '101_99_abricot1.wav', '108_12_lyre1.wav', '108_1_truelle1.wav', '107_12_violoncelle2.wav', '101_99_carillon1.wav', '108_12_perceuse2.wav', '106_12_flute2.wav', '101_99_asperge1.wav', '106_15_haricot2.wav', '107_1_roquette1.wav', '108_9_olive1.wav', '108_9_cor2.wav', '107_1_orange2.wav', '115_1_lyre.wav', '115_1_orgue.wav', '108_12_haricot2.wav', '106_15_cymbales2.wav', '108_1_olive1.wav', '108_12_flute2.wav', '108_12_agrafeuse2.wav', '105_1_saxophone.wav', '107_1_scalpel2.wav', '106_12_carillon1.wav', '106_15_scie1.wav', '106_15_carillon1.wav', '106_15_scalpel2.wav', '101_99_courgette1.wav', '108_9_potiron1.wav', '106_12_arrosoir2.wav', '115_1_saxophone.wav', '105_1_radis.wav', '101_99_mirabelle1.wav', '106_12_violoncelle2.wav', '107_1_pruneau2.wav', '108_1_cor2.wav', '102_1_scie.wav', '106_15_abricot2.wav', '107_1_aubergine2.wav', '108_1_patate2.wav', '101_99_pruneau1.wav', '106_12_scie1.wav', '108_12_saxophone1.wav', '118_1_lyre.wav', '107_1_cor2.wav', '115_1_tomate.wav', '101_99_myrtille1.wav', '107_1_asperge2.wav', '107_12_escabeau2.wav', '107_12_arrosoir2.wav', '101_99_olive1.wav', '108_12_asperge2.wav', '108_9_flute2.wav', '107_1_abricot1.wav', '106_12_cuillere1.wav', '107_1_framboise1.wav', '108_9_clarinette1.wav', '106_12_clarinette2.wav', '102_1_mangue.wav', '108_12_cerise2.wav', '102_1_ciseaux.wav', '101_99_fourchette1.wav', '106_9_xxx.wav', '101_99_flute1.wav', '101_99_artichaut1.wav', '107_1_olive2.wav', '102_1_flute.wav', '118_1_truelle.wav', '115_1_batterie.wav', '106_12_epinard1.wav', '115_1_pruneau.wav', '111_1_aubergine.wav', '107_12_tournevis2.wav', '108_12_metronome2.wav', '102_1_equerre.wav', '108_1_piano1.wav', '106_12_aubergine2.wav', '102_1_haricot.wav', '107_1_kaki2.wav', '107_1_radis1.wav', '108_9_chalumeau1.wav', '106_12_batterie1.wav', '108_12_banjo1.wav', '107_1_cerise2.wav', '108_1_equerre1.wav', '107_12_poireau2.wav', '108_12_violoncelle2.wav', '108_1_flute2.wav', '118_1_mangue.wav', '118_1_pruneau.wav', '101_99_tournevis1.wav', '108_9_haricot1.wav', '108_12_roquette1.wav', '107_12_cuillere2.wav', '118_1_poireau.wav', '108_1_potiron1.wav', '102_1_roquette.wav', '106_12_scie2.wav', '107_1_potiron2.wav', '103_9_xxx.wav', '102_1_cor.wav', '106_12_orgue2.wav', '106_12_arrosoir1.wav', '106_15_truelle2.wav', '101_99_patate1.wav', '118_1_figue.wav', '108_1_chalumeau2.wav', '108_12_poireau1.wav', '108_9_mirabelle2.wav', '108_9_piano2.wav', '102_1_patate.wav', '108_12_ciseaux1.wav', '108_1_tomate1.wav', '102_1_arrosoir.wav', '108_9_perceuse2.wav', '101_99_ciseaux1.wav', '107_1_haricot2.wav', '108_1_agrafeuse2.wav', '107_12_artichaut2.wav', '106_15_patate2.wav', '108_9_agrafeuse1.wav', '107_1_celeri1.wav', '107_12_violoncelle1.wav', '108_1_potiron2.wav', '107_12_tournevis1.wav', '102_1_banjo.wav', '106_12_mirabelle1.wav', '106_12_cymbales1.wav', '107_12_cor2.wav', '102_9_xxx.wav', '108_9_equerre2.wav', '108_1_arrosoir2.wav', '108_1_abricot2.wav', '106_12_framboise2.wav', '108_12_radis1.wav', '102_1_myrtille.wav', '107_1_violoncelle1.wav', '106_12_chalumeau2.wav', '105_9_xxx.wav', '108_12_brocoli1.wav', '107_12_kaki2.wav', '101_99_xxx.wav', '108_1_brocoli2.wav', '106_15_framboise1.wav', '108_1_figue2.wav', '108_12_batterie1.wav', '108_9_ananas2.wav', '108_1_compas2.wav', '107_1_epinard2.wav', '106_12_equerre2.wav', '108_1_kaki1.wav', '108_1_batterie1.wav', '106_15_violoncelle2.wav', '107_12_saxophone1.wav', '108_12_artichaut1.wav', '106_15_olive2.wav', '108_1_pruneau2.wav', '101_99_poireau1.wav', '102_1_chalumeau.wav', '111_1_cymbales.wav', '107_1_aubergine1.wav', '108_9_truelle2.wav', '108_9_courgette1.wav', '106_12_haricot1.wav', '106_12_chalumeau1.wav', '108_12_tomate2.wav', '101_99_saxophone1.wav', '108_12_kaki1.wav', '108_1_pruneau1.wav', '108_1_framboise2.wav', '105_1_pamplemousse.wav', '106_15_artichaut2.wav', '102_1_olive.wav', '107_12_batterie2.wav', '107_1_radis2.wav', '118_1_tomate.wav', '108_1_violoncelle2.wav', '108_9_banjo2.wav', '108_9_cymbales1.wav', '108_9_ciseaux1.wav', '106_15_olive1.wav', '108_12_orange1.wav', '108_12_abricot1.wav', '108_12_chalumeau2.wav', '111_1_orgue.wav', '111_1_lyre.wav', '107_1_escabeau1.wav', '106_15_saxophone1.wav', '107_1_piano1.wav', '115_1_fraise.wav', '106_15_myrtille1.wav', '108_9_orange2.wav', '108_9_abricot1.wav', '102_1_piano.wav', '108_1_ananas1.wav', '107_1_patate2.wav', '106_12_clarinette1.wav', '107_12_perceuse2.wav', '106_12_fraise2.wav', '106_15_guitare1.wav', '106_15_batterie2.wav', '107_1_flute1.wav', '107_1_ananas1.wav', '118_1_equerre.wav', '118_1_fraise.wav', '106_12_brocoli2.wav', '106_15_chalumeau1.wav', '107_1_metronome1.wav', '106_12_pamplemousse1.wav', '106_15_cymbales1.wav', '106_12_mirabelle2.wav', '105_1_guitare.wav', '101_99_radis1.wav', '106_15_celeri2.wav', '106_15_pruneau1.wav', '101_9_xxx.wav', '106_12_patate1.wav', '107_1_myrtille1.wav', '108_9_escabeau2.wav', '102_1_figue.wav', '106_12_fourchette2.wav', '108_1_carillon1.wav', '106_15_aubergine2.wav', '106_12_truelle1.wav', '108_9_compas1.wav', '107_12_perceuse1.wav', '106_12_poireau2.wav', '105_1_ciseaux.wav', '118_1_celeri.wav', '107_12_mirabelle1.wav', '106_12_tomate2.wav', '108_9_fraise2.wav', '107_1_potiron1.wav', '106_15_tomate1.wav', '108_1_kaki2.wav', '118_1_perceuse.wav', '108_9_chalumeau2.wav', '107_12_scalpel2.wav', '107_12_ciseaux2.wav', '107_12_brocoli2.wav', '101_99_guitare1.wav', '108_12_piano1.wav', '105_1_pruneau.wav', '108_12_scalpel1.wav', '107_12_fourchette2.wav', '106_15_artichaut1.wav', '108_9_kaki1.wav', '108_12_framboise2.wav', '105_1_orgue.wav', '107_12_equerre1.wav', '107_1_brocoli2.wav', '106_15_celeri1.wav', '111_1_banjo.wav', '101_99_truelle1.wav', '108_12_chalumeau1.wav', '106_12_kaki2.wav', '106_12_orgue1.wav', '108_1_scie1.wav', '108_12_escabeau1.wav', '107_12_lyre2.wav', '101_99_roquette1.wav', '107_12_banjo1.wav', '118_1_guitare.wav', '101_99_cuillere1.wav', '118_1_orange.wav', '108_9_agrafeuse2.wav', '107_12_aubergine2.wav', '108_1_fraise1.wav', '106_15_cerise1.wav', '108_1_banjo2.wav', '108_9_piano1.wav', '107_12_batterie1.wav', '101_99_perceuse1.wav', '108_1_perceuse1.wav', '108_1_mirabelle1.wav', '101_99_batterie1.wav', '107_12_mangue1.wav', '108_1_abricot1.wav', '102_1_pamplemousse.wav', '108_9_framboise1.wav', '108_12_guitare1.wav', '106_15_epinard1.wav', '101_99_cor1.wav', '102_1_agrafeuse.wav', '115_1_cymbales.wav', '108_12_artichaut2.wav', '108_1_cerise1.wav', '108_1_metronome1.wav', '106_15_ciseaux2.wav', '105_1_flute.wav', '108_9_cuillere1.wav', '115_1_ciseaux.wav', '108_1_asperge2.wav', '108_12_saxophone2.wav', '111_1_tomate.wav', '106_12_escabeau1.wav', '108_9_artichaut2.wav', '102_1_celeri.wav', '101_99_epinard1.wav', '101_99_piano1.wav', '107_12_saxophone2.wav', '108_12_celeri1.wav', '108_1_equerre2.wav', '102_1_fraise.wav', '118_1_radis.wav', '107_1_courgette1.wav', '108_12_scie1.wav', '118_1_metronome.wav', '106_15_ciseaux1.wav', '106_12_piano2.wav', '107_12_lyre1.wav', '108_12_asperge1.wav', '108_9_pruneau1.wav', '107_1_scalpel1.wav', '107_12_ananas1.wav', '108_1_epinard1.wav', '102_1_poireau.wav', '118_1_scie.wav', '106_12_framboise1.wav', '106_12_perceuse2.wav', '106_12_myrtille1.wav', '106_12_violoncelle1.wav', '107_1_perceuse2.wav', '108_9_scie1.wav', '108_1_courgette2.wav', '107_12_potiron1.wav', '108_9_pruneau2.wav', '118_1_pamplemousse.wav', '106_15_tournevis1.wav', '108_9_poireau1.wav', '106_12_batterie2.wav', '107_12_patate1.wav', '108_1_tomate2.wav', '106_15_clarinette1.wav', '108_12_celeri2.wav', '106_12_olive2.wav', '107_1_fourchette2.wav', '101_99_framboise1.wav', '111_9_xxx.wav', '101_99_scalpel1.wav', '102_1_potiron.wav', '111_1_cuillere.wav', '108_1_haricot1.wav', '108_12_flute1.wav', '106_15_banjo1.wav', '108_12_pamplemousse2.wav', '118_2_fraise2.wav', '108_9_fourchette1.wav', '118_1_ananas.wav', '102_1_framboise.wav', '107_1_arrosoir2.wav', '108_1_scalpel1.wav', '108_9_tomate2.wav', '107_12_banjo2.wav', '106_12_patate2.wav', '108_9_figue2.wav', '108_12_myrtille1.wav', '108_12_clarinette1.wav', '108_9_kaki2.wav', '105_1_abricot.wav', '108_9_asperge1.wav', '107_1_metronome2.wav', '108_9_escabeau1.wav', '108_9_carillon2.wav', '107_12_agrafeuse1.wav', '108_1_banjo1.wav', '101_99_cymbales1.wav', '106_12_tomate1.wav', '105_1_cymbales.wav', '106_12_carillon2.wav', '107_12_scie1.wav', '108_12_figue2.wav', '107_1_chalumeau1.wav', '111_1_cerise.wav', '115_1_scalpel.wav', '101_99_cerise1.wav', '108_9_tournevis2.wav', '101_99_figue1.wav', '107_12_abricot2.wav', '108_12_courgette2.wav', '107_1_figue1.wav', '107_12_arrosoir1.wav', '108_12_scalpel2.wav', '108_12_pruneau2.wav', '108_9_saxophone2.wav', '106_15_escabeau1.wav', '108_1_orange2.wav', '108_9_mangue1.wav', '102_1_ananas.wav', '105_1_violoncelle.wav', '106_12_potiron2.wav', '118_1_cor.wav', '106_15_lyre2.wav', '107_1_compas2.wav', '107_1_saxophone2.wav']\n",
      "Duplicate filenames in df (not processed):  ['101_1_abricot.wav', '101_1_abricot.wav', '101_1_agrafeuse.wav', '101_1_agrafeuse.wav', '101_1_ananas.wav', '101_1_ananas.wav', '101_1_arrosoir.wav', '101_1_arrosoir.wav', '101_1_artichaut.wav', '101_1_artichaut.wav', '101_1_asperge.wav', '101_1_asperge.wav', '101_1_aubergine.wav', '101_1_aubergine.wav', '101_1_banjo.wav', '101_1_banjo.wav', '101_1_batterie.wav', '101_1_batterie.wav', '101_1_brocoli.wav', '101_1_brocoli.wav', '101_1_carillon.wav', '101_1_carillon.wav', '101_1_celeri.wav', '101_1_celeri.wav', '101_1_cerise.wav', '101_1_cerise.wav', '101_1_chalumeau.wav', '101_1_chalumeau.wav', '101_1_ciseaux.wav', '101_1_ciseaux.wav', '101_1_clarinette.wav', '101_1_clarinette.wav', '101_1_compas.wav', '101_1_compas.wav', '101_1_cor.wav', '101_1_cor.wav', '101_1_courgette.wav', '101_1_courgette.wav', '101_1_cuillere.wav', '101_1_cuillere.wav', '101_1_cymbales.wav', '101_1_cymbales.wav', '101_1_epinard.wav', '101_1_epinard.wav', '101_1_equerre.wav', '101_1_equerre.wav', '101_1_escabeau.wav', '101_1_escabeau.wav', '101_1_figue.wav', '101_1_figue.wav', '101_1_flute.wav', '101_1_flute.wav', '101_1_fourchette.wav', '101_1_fourchette.wav', '101_1_fraise.wav', '101_1_fraise.wav', '101_1_framboise.wav', '101_1_framboise.wav', '101_1_guitare.wav', '101_1_guitare.wav', '101_1_haricot.wav', '101_1_haricot.wav', '101_1_kaki.wav', '101_1_kaki.wav', '101_1_lyre.wav', '101_1_lyre.wav', '101_1_mangue.wav', '101_1_mangue.wav', '101_1_metronome.wav', '101_1_metronome.wav', '101_1_mirabelle.wav', '101_1_mirabelle.wav', '101_1_myrtille.wav', '101_1_myrtille.wav', '101_1_olive.wav', '101_1_olive.wav', '101_1_orange.wav', '101_1_orange.wav', '101_1_orgue.wav', '101_1_orgue.wav', '101_1_pamplemousse.wav', '101_1_pamplemousse.wav', '101_1_patate.wav', '101_1_patate.wav', '101_1_perceuse.wav', '101_1_perceuse.wav', '101_1_piano.wav', '101_1_piano.wav', '101_1_poireau.wav', '101_1_poireau.wav', '101_1_potiron.wav', '101_1_potiron.wav', '101_1_pruneau.wav', '101_1_pruneau.wav', '101_1_radis.wav', '101_1_radis.wav', '101_1_roquette.wav', '101_1_roquette.wav', '101_1_saxophone.wav', '101_1_saxophone.wav', '101_1_scalpel.wav', '101_1_scalpel.wav', '101_1_scie.wav', '101_1_scie.wav', '101_1_tomate.wav', '101_1_tomate.wav', '101_1_tournevis.wav', '101_1_tournevis.wav', '101_1_truelle.wav', '101_1_truelle.wav', '101_1_violoncelle.wav', '101_1_violoncelle.wav']\n",
      "Duplicate filenames in recordings folder (not processed):  []\n",
      "Number of files to be processed:  4368\n",
      "\n",
      "Total time of audio files: 33375.6468480727 seconds = 556.2607808012116 minutes\n",
      "Number of rows in df after removing rows with NaN values in accuracy column:  4366\n"
     ]
    }
   ],
   "source": [
    "### Change format of df to match the expected format ###\n",
    "df = reformat_df(df = df, \n",
    "                    columns_drop = [], \n",
    "                    columns_rename = {\"Stimuli\":\"reference_text\", \"Output_file\": \"filename\", \"Accuracy\": \"accuracy\", \"Categorie\": \"config_id\"}, \n",
    "                    columns_add = [\"asr_response\",\"filepath\", \"audio_length\"])\n",
    "# Reorder the DataFrame columns\n",
    "\n",
    "\n",
    "\n",
    "### Handle rows with NaN values in human_transcription column ###\n",
    "#print(df['human_transcription'].isnull().sum(), \"rows with NaN values in human_transcription column and notes associated with these rows are\", df[df['human_transcription'].isnull()]['notes'].unique(), \"\\n\")\n",
    "# Remove rows with NaN values in transcription column \n",
    "#df = df.dropna(subset=['human_transcription']).reset_index(drop=True)\n",
    "\n",
    "\n",
    "### Synchronize the DataFrame with the audio files by removing missing files and duplicates ###\n",
    "df, recordings_filepaths, recordings_filenames = match_files_df_recordings(df = df, \n",
    "                                                                            recordings_folder_path = recordings_folder_path, \n",
    "                                                                            path_filters = None)\n",
    "\n",
    "\n",
    "df['filepath'] = [os.path.join(recordings_folder_path, filename) for filename in df['filename']]\n",
    "\n",
    "\n",
    "# Fill the audio_length column by adding the audio duration for each file in recordings_filepaths and get the total time\n",
    "total_time = 0\n",
    "for audio_path in recordings_filepaths:\n",
    "    filename = os.path.basename(audio_path)\n",
    "    if filename in df['filename'].values:\n",
    "        audio_length = librosa.get_duration(path=audio_path)\n",
    "        df.loc[df['filename'] == filename, 'audio_length'] = audio_length\n",
    "        total_time += audio_length\n",
    "print(\"\\nTotal time of audio files:\", total_time, \"seconds =\", total_time/60, \"minutes\")\n",
    "\n",
    "# replace all the 'NA' with 0 in the accuracy column\n",
    "# drop all the rows with accuracy nan\n",
    "df = df.dropna(subset=['accuracy']).reset_index(drop=True)\n",
    "# print final length of df\n",
    "print(\"Number of rows in df after removing rows with NaN values in accuracy column: \", len(df))\n",
    "\n",
    "# Save the updated df to a JSON file\n",
    "# create a folder to save the JSON file if it does not exist\n",
    "if not os.path.exists('Marina/dfs/deco'):\n",
    "    os.makedirs('Marina/dfs/deco')\n",
    "df.to_json('Marina/dfs/deco/Intervention_Decoding_og_df.json', orient='records')"
   ]
  },
  {
   "cell_type": "code",
   "execution_count": 68,
   "id": "4c4f3179",
   "metadata": {},
   "outputs": [
    {
     "name": "stdout",
     "output_type": "stream",
     "text": [
      "Fruits ['abricot' 'ananas' 'cerise' 'figue' 'fraise' 'framboise' 'kaki' 'mangue'\n",
      " 'mirabelle' 'myrtille' 'orange' 'pamplemousse' 'pruneau' 'tomate']\n",
      "Instruments  ['banjo' 'batterie' 'carillon' 'clarinette' 'cor' 'cymbales' 'flute'\n",
      " 'guitare' 'lyre' 'metronome' 'orgue' 'piano' 'saxophone' 'violoncelle']\n",
      "Légumes ['artichaut' 'asperge' 'aubergine' 'brocoli' 'celeri' 'courgette'\n",
      " 'epinard' 'haricot' 'olive' 'patate' 'poireau' 'potiron' 'radis'\n",
      " 'roquette']\n",
      "Outils ['agrafeuse' 'arrosoir' 'chalumeau' 'ciseaux' 'compas' 'cuillere'\n",
      " 'equerre' 'escabeau' 'fourchette' 'perceuse' 'scalpel' 'scie' 'tournevis'\n",
      " 'truelle']\n"
     ]
    }
   ],
   "source": [
    "# Each config_id should have the same reference_text print them\n",
    "for config_id in sorted(df['config_id'].unique()):\n",
    "    print(config_id, df[df['config_id'] == config_id]['reference_text'].unique())"
   ]
  },
  {
   "cell_type": "markdown",
   "id": "7303b3ab",
   "metadata": {},
   "source": []
  },
  {
   "cell_type": "code",
   "execution_count": 69,
   "id": "f1a87802",
   "metadata": {},
   "outputs": [
    {
     "name": "stdout",
     "output_type": "stream",
     "text": [
      "Total number of rows in df  before removal:  4366\n",
      "Total number of rows in df  before removal:  4366\n"
     ]
    }
   ],
   "source": [
    "#df_not_cleaned = df.copy()\n",
    "if not os.path.exists('Marina/dfs/deco'):\n",
    "    os.makedirs('Marina/dfs/deco')\n",
    "\n",
    "df.to_json('Marina/dfs/deco/Intervention_Decoding_df.json')\n",
    "print(\"Total number of rows in df: \", len(df))"
   ]
  },
  {
   "cell_type": "code",
   "execution_count": 70,
   "id": "ddb24321",
   "metadata": {},
   "outputs": [
    {
     "name": "stdout",
     "output_type": "stream",
     "text": [
      "Type of accuracy column of first row:  <class 'numpy.float64'>\n"
     ]
    }
   ],
   "source": [
    "# type of accuracy column of first row\n",
    "print(\"Type of accuracy column of first row: \", type(df.loc[0]['accuracy']))"
   ]
  }
 ],
 "metadata": {
  "kernelspec": {
   "display_name": "asr",
   "language": "python",
   "name": "python3"
  },
  "language_info": {
   "codemirror_mode": {
    "name": "ipython",
    "version": 3
   },
   "file_extension": ".py",
   "mimetype": "text/x-python",
   "name": "python",
   "nbconvert_exporter": "python",
   "pygments_lexer": "ipython3",
   "version": "3.11.9"
  }
 },
 "nbformat": 4,
 "nbformat_minor": 5
}
